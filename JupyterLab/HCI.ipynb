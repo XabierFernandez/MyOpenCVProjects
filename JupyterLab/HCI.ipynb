{
 "cells": [
  {
   "cell_type": "code",
   "execution_count": null,
   "id": "ca175377-e3ae-407c-933b-23b629a647b2",
   "metadata": {
    "tags": []
   },
   "outputs": [],
   "source": [
    "!pip install PyAutoGUI -q"
   ]
  },
  {
   "cell_type": "code",
   "execution_count": 12,
   "id": "89037102-2445-436b-805d-4a7f2b050529",
   "metadata": {
    "tags": []
   },
   "outputs": [],
   "source": [
    "# Wait 2 seconds, to give you time to switch to the drawing application.\n",
    "import time\n",
    "import pyautogui\n",
    "time.sleep(4.0)\n",
    "\n",
    "distance = 400\n",
    "while distance > 0:\n",
    "        pyautogui.drag(distance, 0, button='left', duration=0.5)   # move right\n",
    "        distance -= 50\n",
    "        pyautogui.drag(0, distance, button='left', duration=0.5)   # move down\n",
    "        pyautogui.drag(-distance, 0, button='left', duration=0.5)  # move left\n",
    "        distance -= 50\n",
    "        pyautogui.drag(0, -distance, button='left', duration=0.5)  # move up"
   ]
  },
  {
   "cell_type": "code",
   "execution_count": null,
   "id": "f8bf41c9-5a1c-4d9e-ad3a-f68840f2aabe",
   "metadata": {},
   "outputs": [],
   "source": []
  }
 ],
 "metadata": {
  "kernelspec": {
   "display_name": "opencv_environment",
   "language": "python",
   "name": "opencv_environment"
  },
  "language_info": {
   "codemirror_mode": {
    "name": "ipython",
    "version": 3
   },
   "file_extension": ".py",
   "mimetype": "text/x-python",
   "name": "python",
   "nbconvert_exporter": "python",
   "pygments_lexer": "ipython3",
   "version": "3.12.3"
  }
 },
 "nbformat": 4,
 "nbformat_minor": 5
}
